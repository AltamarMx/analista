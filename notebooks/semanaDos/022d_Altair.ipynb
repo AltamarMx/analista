{
 "cells": [
  {
   "cell_type": "markdown",
   "id": "b1b2cd55-1226-486d-ba49-bc1575852177",
   "metadata": {},
   "source": [
    "# Figura rápida en Altair\n",
    " Como han contribuido a lo largo del tiempo los 4 paises que más emiten en el 2022 respecto a las emisiones totales e incluir a México"
   ]
  },
  {
   "cell_type": "code",
   "execution_count": null,
   "id": "84afaaa4-d124-4988-aca4-09540f7bc298",
   "metadata": {},
   "outputs": [],
   "source": [
    "import pandas as pd\n",
    "import altair as alt\n"
   ]
  },
  {
   "cell_type": "code",
   "execution_count": null,
   "id": "007b587d-7807-4e01-ab15-e7323f881bb2",
   "metadata": {},
   "outputs": [],
   "source": [
    "# Cargar el conjunto de datos\n",
    "file_path = '../../data/owid-co2-data.csv'\n",
    "co2 = pd.read_csv(file_path)\n",
    "\n",
    "# Filtrar los datos para los países de interés\n",
    "paises_interes = ['China', 'United States', 'India', 'Russia', 'Mexico', 'World']\n",
    "co2_filtered = co2[co2['country'].isin(paises_interes)]\n",
    "\n",
    "# Crear una tabla pivot para los datos\n",
    "co2_pivot = co2_filtered.pivot(index='year', columns='country', values='co2').fillna(0).reset_index()\n",
    "\n",
    "# Convertir los datos a un formato largo (long format) para Altair\n",
    "co2_long = co2_pivot.melt(id_vars='year', var_name='country', value_name='co2')\n",
    "\n",
    "# Asegurar que el año sea interpretado como temporal\n",
    "co2_long['year'] = pd.to_datetime(co2_long['year'], format='%Y')\n",
    "co2_long"
   ]
  },
  {
   "cell_type": "code",
   "execution_count": null,
   "id": "9be50de5-1475-44c2-9b24-e86c6b806ced",
   "metadata": {},
   "outputs": [],
   "source": [
    "# Crear la gráfica de áreas apiladas\n",
    "area_chart = alt.Chart(co2_long).transform_filter(\n",
    "    alt.FieldOneOfPredicate(field='country', oneOf=paises_interes[:-1])\n",
    ").mark_area().encode(\n",
    "    x=alt.X('year:T', title='Year', axis=alt.Axis(format='%Y')),\n",
    "    y=alt.Y('co2:Q', stack='zero', title='CO2 Emissions (million tonnes)'),\n",
    "    color=alt.Color('country:N', title='Country', scale=alt.Scale(scheme='category10')),\n",
    "    tooltip=['year:T', 'country:N', 'co2:Q']\n",
    ").properties(\n",
    "    width=800,\n",
    "    height=400\n",
    ")\n",
    "\n",
    "# Crear la gráfica de línea para 'World'\n",
    "line_chart = alt.Chart(co2_long).transform_filter(\n",
    "    alt.datum.country == 'World'\n",
    ").mark_line(color='black', size=3).encode(\n",
    "    x=alt.X('year:T', title='Year', axis=alt.Axis(format='%Y')),\n",
    "    y=alt.Y('co2:Q', title='CO2 Emissions (million tonnes)'),\n",
    "    tooltip=['year:T', 'co2:Q']\n",
    ").properties(\n",
    "    width=800,\n",
    "    height=400\n",
    ")\n",
    "\n",
    "# Combinar ambas gráficas\n",
    "chart = alt.layer(area_chart, line_chart).properties(\n",
    "    title='Emisiones históricas de CO2'\n",
    ")\n",
    "\n",
    "# Habilitar la interactividad\n",
    "chart = chart.interactive()\n",
    "\n",
    "chart"
   ]
  },
  {
   "cell_type": "code",
   "execution_count": null,
   "id": "ad4441cb-a75b-406a-9a47-b80ea84659f3",
   "metadata": {},
   "outputs": [],
   "source": []
  }
 ],
 "metadata": {
  "kernelspec": {
   "display_name": "Python 3 (ipykernel)",
   "language": "python",
   "name": "python3"
  },
  "language_info": {
   "codemirror_mode": {
    "name": "ipython",
    "version": 3
   },
   "file_extension": ".py",
   "mimetype": "text/x-python",
   "name": "python",
   "nbconvert_exporter": "python",
   "pygments_lexer": "ipython3",
   "version": "3.12.3"
  }
 },
 "nbformat": 4,
 "nbformat_minor": 5
}
