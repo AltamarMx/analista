{
 "cells": [
  {
   "cell_type": "markdown",
   "id": "b1b2cd55-1226-486d-ba49-bc1575852177",
   "metadata": {},
   "source": [
    "# Como han contribuido a lo largo del tiempo los 4 paises que más emiten en el 2022 respecto a las emisiones totales e incluir a México"
   ]
  },
  {
   "cell_type": "code",
   "execution_count": null,
   "id": "84afaaa4-d124-4988-aca4-09540f7bc298",
   "metadata": {},
   "outputs": [],
   "source": [
    "import pandas as pd\n",
    "from bokeh.plotting import figure, show, output_notebook\n",
    "from bokeh.models import ColumnDataSource, HoverTool\n",
    "from bokeh.palettes import Category10\n",
    "\n",
    "output_notebook()"
   ]
  },
  {
   "cell_type": "code",
   "execution_count": null,
   "id": "b2d577dc-480c-40fc-b926-9ce43b27bd59",
   "metadata": {},
   "outputs": [],
   "source": [
    "f = \"../../data/owid-co2-data.csv\"\n",
    "co2 = pd.read_csv(f)"
   ]
  },
  {
   "cell_type": "code",
   "execution_count": null,
   "id": "44739df5-20fd-4799-b55c-94efa874b7c1",
   "metadata": {},
   "outputs": [],
   "source": [
    "# Filtrar los datos para los países de interés\n",
    "paises_interes = ['China', 'United States', 'India', 'Russia', 'World']\n",
    "co2_filtered = co2[co2['country'].isin(paises_interes)]\n",
    "\n",
    "# Crear una tabla pivot para los datos\n",
    "co2_pivot = co2_filtered.pivot(index='year', columns='country', values='co2').fillna(0)"
   ]
  },
  {
   "cell_type": "code",
   "execution_count": null,
   "id": "6b7087bf-bfc5-417a-adff-feab818eba3a",
   "metadata": {},
   "outputs": [],
   "source": [
    "# Preparar los datos para Bokeh\n",
    "source = ColumnDataSource(co2_pivot)\n",
    "\n",
    "# Crear una figura Bokeh\n",
    "p = figure(\n",
    "    title='Emisiones históricas de CO2',\n",
    "    x_axis_label='Year',\n",
    "    y_axis_label='CO2 Emissions (million tonnes)',\n",
    "    sizing_mode=\"stretch_width\",# me permite ajustar al ancho de ventana\n",
    "    height=250,\n",
    "          )\n",
    "\n",
    "# Colores para las áreas apiladas\n",
    "colors = Category10[10]\n",
    "\n",
    "# Añadir las trazas de área para los países seleccionados\n",
    "p.varea_stack(stackers=paises_interes[:-1], x='year', source=source, color=colors[:len(paises_interes)-1], alpha=0.6, legend_label=paises_interes[:-1])\n",
    "\n",
    "# Añadir la traza de línea para 'World'\n",
    "p.line(x='year', y='World', source=source, color='black', line_width=2, legend_label='World')\n",
    "\n",
    "# Configurar el estilo de la gráfica\n",
    "p.legend.location = 'top_left'\n",
    "p.legend.click_policy = 'hide'\n",
    "p.add_tools(HoverTool(tooltips=[(\"Year\", \"@year\"), (\"CO2 Emissions\", \"@$name\")]))\n",
    "\n",
    "# Mostrar la gráfica\n",
    "show(p)"
   ]
  }
 ],
 "metadata": {
  "kernelspec": {
   "display_name": "Python 3 (ipykernel)",
   "language": "python",
   "name": "python3"
  },
  "language_info": {
   "codemirror_mode": {
    "name": "ipython",
    "version": 3
   },
   "file_extension": ".py",
   "mimetype": "text/x-python",
   "name": "python",
   "nbconvert_exporter": "python",
   "pygments_lexer": "ipython3",
   "version": "3.12.3"
  }
 },
 "nbformat": 4,
 "nbformat_minor": 5
}
