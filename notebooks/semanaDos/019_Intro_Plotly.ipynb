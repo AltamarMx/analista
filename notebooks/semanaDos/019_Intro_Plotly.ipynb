{
 "cells": [
  {
   "cell_type": "markdown",
   "id": "d4c266b6",
   "metadata": {},
   "source": [
    "# Plotly"
   ]
  },
  {
   "cell_type": "code",
   "execution_count": null,
   "id": "b362a051-cdbf-4a14-8028-19d7a3b4b2ae",
   "metadata": {},
   "outputs": [],
   "source": [
    "# pip install plotly"
   ]
  },
  {
   "cell_type": "code",
   "execution_count": null,
   "id": "aad35dd9-7e8b-4b45-89db-f77c9fc1055a",
   "metadata": {},
   "outputs": [],
   "source": [
    "import plotly.express as px\n",
    "import pandas as pd"
   ]
  },
  {
   "cell_type": "code",
   "execution_count": null,
   "id": "4c4f397e-5479-4f88-b0ad-93dff79ab46f",
   "metadata": {},
   "outputs": [],
   "source": [
    "f = '../../data/Temixco_2018_10Min.csv'\n",
    "tmx = pd.read_csv(f)\n",
    "tmx.columns"
   ]
  },
  {
   "cell_type": "code",
   "execution_count": null,
   "id": "7b53c43f-a4dd-4ec0-9c5c-cc3c1195ee6c",
   "metadata": {
    "scrolled": true
   },
   "outputs": [],
   "source": [
    "fig = px.line(tmx, x=\"time\",y=\"Ig\")\n",
    "fig.show()"
   ]
  },
  {
   "cell_type": "code",
   "execution_count": null,
   "id": "23f57341-8cee-4596-898a-efb539e3c0cb",
   "metadata": {},
   "outputs": [],
   "source": [
    "fig = px.line(tmx, x=\"time\",y=[\"Ig\",\"Ib\"])\n",
    "fig.show()"
   ]
  },
  {
   "cell_type": "code",
   "execution_count": null,
   "id": "6bacf056-3ead-4204-af05-86888054453f",
   "metadata": {},
   "outputs": [],
   "source": [
    "fig = px.line(tmx, x=\"time\",y=tmx.columns)\n",
    "fig.show()"
   ]
  },
  {
   "cell_type": "markdown",
   "id": "7af79c29-b976-4245-b6f2-efff8905a3c5",
   "metadata": {},
   "source": [
    "# Noten el tamaño del archivo final"
   ]
  },
  {
   "cell_type": "code",
   "execution_count": null,
   "id": "a65c1648-3948-4904-a131-dbb7756f6b7f",
   "metadata": {},
   "outputs": [],
   "source": []
  }
 ],
 "metadata": {
  "kernelspec": {
   "display_name": "Python 3 (ipykernel)",
   "language": "python",
   "name": "python3"
  },
  "language_info": {
   "codemirror_mode": {
    "name": "ipython",
    "version": 3
   },
   "file_extension": ".py",
   "mimetype": "text/x-python",
   "name": "python",
   "nbconvert_exporter": "python",
   "pygments_lexer": "ipython3",
   "version": "3.12.3"
  }
 },
 "nbformat": 4,
 "nbformat_minor": 5
}
