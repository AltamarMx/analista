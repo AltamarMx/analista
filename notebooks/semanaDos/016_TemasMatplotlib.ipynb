{
 "cells": [
  {
   "cell_type": "markdown",
   "id": "4fefa191-497a-4158-bc30-7a0dd5ccbaf8",
   "metadata": {},
   "source": [
    "# Temas en Matplotlib\n"
   ]
  },
  {
   "cell_type": "code",
   "execution_count": null,
   "id": "aca58f26-e56a-4b7b-aaa8-0d21162af14f",
   "metadata": {},
   "outputs": [],
   "source": [
    "import pandas as pd\n",
    "import matplotlib.pyplot as plt\n",
    "from dateutil.parser import parse\n",
    "\n",
    "# plt.style.use(\"grayscale\")\n",
    "# plt.style.use(\"seaborn-v0_8-talk\")\n",
    "plt.style.use(\"seaborn-v0_8-dark\")\n",
    "# plt.style.use(\"enerdata_square.mplstyle\")\n",
    "\n"
   ]
  },
  {
   "cell_type": "code",
   "execution_count": null,
   "id": "b7d559db-cb13-4a83-9300-bd3701b60e8f",
   "metadata": {},
   "outputs": [],
   "source": [
    "plt.style.available"
   ]
  },
  {
   "cell_type": "code",
   "execution_count": null,
   "id": "face317f-9331-4fcc-9fca-41ded43550a1",
   "metadata": {},
   "outputs": [],
   "source": [
    "f = '../../data/Temixco_2018_10Min.csv'\n",
    "tmx = pd.read_csv(f,index_col=0,parse_dates=True)\n",
    "columnas = tmx.columns\n",
    "columnas"
   ]
  },
  {
   "cell_type": "code",
   "execution_count": null,
   "id": "626c8f39-0e97-4938-968d-b0fbf8193cc4",
   "metadata": {},
   "outputs": [],
   "source": [
    "fig, ax = plt.subplots(2,figsize=(12,4),sharex=True)\n",
    "\n",
    "fecha1 = parse(\"2018-03-10\")\n",
    "fecha2 = fecha1 + pd.Timedelta(\"7D\")\n",
    "\n",
    "for columna in columnas[:2]:\n",
    "    ax[0].plot(tmx[columna],label=columna)\n",
    "\n",
    "ax[1].plot(tmx.To,label=\"To\")\n",
    "    \n",
    "for eje in ax:\n",
    "    eje.set_xlim(fecha1,fecha2)\n",
    "    eje.legend()\n",
    "    eje.grid()\n",
    "\n",
    "ax[0].set_ylim(0,1200)\n",
    "ax[1].set_ylim(18,35)"
   ]
  },
  {
   "cell_type": "code",
   "execution_count": null,
   "id": "abd00835-8ba6-4a2c-93ef-7e7a83432ce8",
   "metadata": {},
   "outputs": [],
   "source": [
    "fig, ax = plt.subplots()\n",
    "\n",
    "fecha1 = parse(\"2018-03-10\")\n",
    "fecha2 = fecha1 + pd.Timedelta(\"1D\")\n",
    "\n",
    "for columna in columnas[:2]:\n",
    "    ax.plot(tmx[columna],label=columna)\n",
    "\n",
    "ax.set_xlim(fecha1,fecha2)\n",
    "\n",
    "ax.set_ylim(0,1200)"
   ]
  }
 ],
 "metadata": {
  "kernelspec": {
   "display_name": "Python 3 (ipykernel)",
   "language": "python",
   "name": "python3"
  },
  "language_info": {
   "codemirror_mode": {
    "name": "ipython",
    "version": 3
   },
   "file_extension": ".py",
   "mimetype": "text/x-python",
   "name": "python",
   "nbconvert_exporter": "python",
   "pygments_lexer": "ipython3",
   "version": "3.12.3"
  }
 },
 "nbformat": 4,
 "nbformat_minor": 5
}
