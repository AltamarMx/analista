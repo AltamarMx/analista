{
 "cells": [
  {
   "cell_type": "markdown",
   "id": "e3022e86-1824-4e5a-9fcd-1d0a2afd85fd",
   "metadata": {},
   "source": [
    "\n"
   ]
  },
  {
   "cell_type": "markdown",
   "id": "d2207d13",
   "metadata": {},
   "source": [
    "# Bokeh"
   ]
  },
  {
   "cell_type": "code",
   "execution_count": null,
   "id": "b362a051-cdbf-4a14-8028-19d7a3b4b2ae",
   "metadata": {},
   "outputs": [],
   "source": [
    "# pip install bokeh"
   ]
  },
  {
   "cell_type": "code",
   "execution_count": null,
   "id": "aad35dd9-7e8b-4b45-89db-f77c9fc1055a",
   "metadata": {},
   "outputs": [],
   "source": [
    "import pandas as pd\n",
    "from bokeh.plotting import figure, output_notebook, show\n",
    "\n",
    "output_notebook()\n"
   ]
  },
  {
   "cell_type": "code",
   "execution_count": null,
   "id": "4c4f397e-5479-4f88-b0ad-93dff79ab46f",
   "metadata": {},
   "outputs": [],
   "source": [
    "f = '../../data/Temixco_2018_10Min.csv'\n",
    "tmx = pd.read_csv(f,parse_dates=[\"time\"])\n",
    "tmx"
   ]
  },
  {
   "cell_type": "code",
   "execution_count": null,
   "id": "7d74e93f-509e-4aa0-a5ad-81b09dc6abce",
   "metadata": {},
   "outputs": [],
   "source": [
    "p = figure(\n",
    "    x_axis_type='datetime',  # Asegura que Bokeh trate el eje x como fechas\n",
    "    sizing_mode=\"stretch_width\",# me permite ajustar al ancho de ventana\n",
    "    height=150,\n",
    ")\n",
    "\n",
    "p.line(x='time', y='Ib', source=tmx, legend_label=\"Ib\", color=\"blue\")\n",
    "p.line(x='time', y='Ig', source=tmx, legend_label=\"Ig\", color=\"green\")\n",
    "\n",
    "# Activar la interactividad con la leyenda\n",
    "p.legend.click_policy=\"hide\"  # Permite ocultar/mostrar la serie al hacer clic en la leyenda\n",
    "\n",
    "show(p)"
   ]
  },
  {
   "cell_type": "code",
   "execution_count": null,
   "id": "c846048d-1e5e-4cb8-8b28-9f589554ef6c",
   "metadata": {},
   "outputs": [],
   "source": []
  }
 ],
 "metadata": {
  "kernelspec": {
   "display_name": "Python 3 (ipykernel)",
   "language": "python",
   "name": "python3"
  },
  "language_info": {
   "codemirror_mode": {
    "name": "ipython",
    "version": 3
   },
   "file_extension": ".py",
   "mimetype": "text/x-python",
   "name": "python",
   "nbconvert_exporter": "python",
   "pygments_lexer": "ipython3",
   "version": "3.12.3"
  }
 },
 "nbformat": 4,
 "nbformat_minor": 5
}
