{
 "cells": [
  {
   "cell_type": "markdown",
   "id": "18d6f52a",
   "metadata": {},
   "source": [
    "# Altair"
   ]
  },
  {
   "cell_type": "code",
   "execution_count": null,
   "id": "b362a051-cdbf-4a14-8028-19d7a3b4b2ae",
   "metadata": {},
   "outputs": [],
   "source": [
    "# pip install \"altair[all]\""
   ]
  },
  {
   "cell_type": "code",
   "execution_count": null,
   "id": "aad35dd9-7e8b-4b45-89db-f77c9fc1055a",
   "metadata": {},
   "outputs": [],
   "source": [
    "import pandas as pd\n",
    "import altair as alt\n",
    "# alt.data_transformers.disable_max_rows()\n",
    "alt.data_transformers.enable(\"vegafusion\")\n"
   ]
  },
  {
   "cell_type": "code",
   "execution_count": null,
   "id": "4c4f397e-5479-4f88-b0ad-93dff79ab46f",
   "metadata": {},
   "outputs": [],
   "source": [
    "f = '../../data/Temixco_2018_10Min.csv'\n",
    "tmx = pd.read_csv(f)\n",
    "tmx"
   ]
  },
  {
   "cell_type": "code",
   "execution_count": null,
   "id": "7d74e93f-509e-4aa0-a5ad-81b09dc6abce",
   "metadata": {},
   "outputs": [],
   "source": [
    "alt.Chart(tmx).mark_line().encode(\n",
    "    x='time:T',\n",
    "    y='Ig'\n",
    ").properties(\n",
    "    width=800,\n",
    "    height=150\n",
    ")"
   ]
  },
  {
   "cell_type": "code",
   "execution_count": null,
   "id": "b30ae8fb-b931-40b2-81e4-1b6f9839a8d1",
   "metadata": {},
   "outputs": [],
   "source": [
    "# Gráfico base que configura las propiedades comunes\n",
    "base = alt.Chart(tmx).encode(\n",
    "    x='time:T'\n",
    ").properties(\n",
    "    width=800,\n",
    "    height=150\n",
    ")\n",
    "\n",
    "# Línea para 'Ig'\n",
    "Ig = base.mark_line(color='blue').encode(\n",
    "    y='Ig'\n",
    ")\n",
    "\n",
    "\n",
    "# Línea para 'Ib'\n",
    "Ib = base.mark_line(color='red').encode(\n",
    "    y='Ib'\n",
    ")\n",
    "\n",
    "# Combinar las líneas en un gráfico\n",
    "final = alt.layer(Ig,Ib)\n",
    "final = alt.layer(Ig)\n",
    "\n",
    "final"
   ]
  },
  {
   "cell_type": "markdown",
   "id": "360d844c-bc7e-4a9f-bae1-49cee0302036",
   "metadata": {},
   "source": [
    "### Hablar de las desventajas de estos métodos de graficación en el tamaño de los archivos."
   ]
  }
 ],
 "metadata": {
  "kernelspec": {
   "display_name": "Python 3 (ipykernel)",
   "language": "python",
   "name": "python3"
  },
  "language_info": {
   "codemirror_mode": {
    "name": "ipython",
    "version": 3
   },
   "file_extension": ".py",
   "mimetype": "text/x-python",
   "name": "python",
   "nbconvert_exporter": "python",
   "pygments_lexer": "ipython3",
   "version": "3.12.3"
  }
 },
 "nbformat": 4,
 "nbformat_minor": 5
}
