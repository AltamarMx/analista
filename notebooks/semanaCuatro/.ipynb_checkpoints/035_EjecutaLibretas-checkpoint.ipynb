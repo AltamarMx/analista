{
 "cells": [
  {
   "cell_type": "code",
   "execution_count": 1,
   "id": "8c1e5c92-a093-477f-a33e-a20e857d5aa8",
   "metadata": {},
   "outputs": [],
   "source": [
    "# pip install papermill"
   ]
  },
  {
   "cell_type": "code",
   "execution_count": 2,
   "id": "d21afdb3-5b60-42e6-81ad-0543f0fe5176",
   "metadata": {},
   "outputs": [],
   "source": [
    "import pandas as pd\n",
    "import matplotlib.pyplot as plt"
   ]
  },
  {
   "cell_type": "code",
   "execution_count": 3,
   "id": "4732d4ff-a972-4721-8c0c-865cce2956e6",
   "metadata": {},
   "outputs": [],
   "source": [
    "f = '../../data/Temixco_2018_10Min.parquet'\n",
    "tmx = pd.read_parquet(f)"
   ]
  },
  {
   "cell_type": "code",
   "execution_count": 4,
   "id": "9cf3ff66-2513-4716-8adb-9acecbf25ccf",
   "metadata": {},
   "outputs": [
    {
     "data": {
      "text/plain": [
       "'\\\\begin{tabular}{lr}\\n\\\\toprule\\n & 0 \\\\\\\\\\n\\\\midrule\\nIb & 236.742726 \\\\\\\\\\nIg & 257.414344 \\\\\\\\\\nTo & 22.838098 \\\\\\\\\\nRH & 45.152827 \\\\\\\\\\nWS & 1.905200 \\\\\\\\\\nWD & 210.734453 \\\\\\\\\\nP & 87591.151598 \\\\\\\\\\n\\\\bottomrule\\n\\\\end{tabular}\\n'"
      ]
     },
     "execution_count": 4,
     "metadata": {},
     "output_type": "execute_result"
    }
   ],
   "source": [
    "tmx_latex = tmx.mean().to_latex()\n",
    "tmx_latex"
   ]
  },
  {
   "cell_type": "code",
   "execution_count": 5,
   "id": "e1004110-72fb-4ab3-80c5-fd06359b9a79",
   "metadata": {},
   "outputs": [],
   "source": [
    "with open('../../latex/tabla_promedios.tex', 'w') as file:\n",
    "    file.write(tmx_latex)\n"
   ]
  },
  {
   "cell_type": "code",
   "execution_count": null,
   "id": "032bb738-3bce-48e3-ab02-73cd721d53e6",
   "metadata": {},
   "outputs": [],
   "source": []
  }
 ],
 "metadata": {
  "kernelspec": {
   "display_name": "Python 3 (ipykernel)",
   "language": "python",
   "name": "python3"
  },
  "language_info": {
   "codemirror_mode": {
    "name": "ipython",
    "version": 3
   },
   "file_extension": ".py",
   "mimetype": "text/x-python",
   "name": "python",
   "nbconvert_exporter": "python",
   "pygments_lexer": "ipython3",
   "version": "3.12.3"
  }
 },
 "nbformat": 4,
 "nbformat_minor": 5
}
