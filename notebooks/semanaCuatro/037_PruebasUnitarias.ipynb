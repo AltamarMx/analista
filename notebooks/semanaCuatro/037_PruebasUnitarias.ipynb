{
 "cells": [
  {
   "cell_type": "markdown",
   "id": "27f41dac",
   "metadata": {},
   "source": [
    "# Pruebas unitarias"
   ]
  },
  {
   "cell_type": "code",
   "execution_count": 1,
   "id": "dac3c0a2-193d-4781-897c-b4a08af20e2b",
   "metadata": {},
   "outputs": [],
   "source": [
    "import pandas as pd\n",
    "import unittest\n"
   ]
  },
  {
   "cell_type": "code",
   "execution_count": 2,
   "id": "bc27479b-84c1-44e9-8ce8-00240fa58bfe",
   "metadata": {},
   "outputs": [
    {
     "name": "stderr",
     "output_type": "stream",
     "text": [
      ".\n",
      "----------------------------------------------------------------------\n",
      "Ran 1 test in 0.048s\n",
      "\n",
      "OK\n"
     ]
    },
    {
     "name": "stdout",
     "output_type": "stream",
     "text": [
      "test_tamano_dataframe pasó\n"
     ]
    }
   ],
   "source": [
    "\n",
    "\n",
    "# Función para verificar el tamaño del DataFrame\n",
    "def verifica_tamano(df, expected_length):\n",
    "    return len(df) == expected_length\n",
    "\n",
    "# Clase de prueba unitaria\n",
    "class TestDataFrameSize(unittest.TestCase):\n",
    "    \n",
    "    def test_tamano_dataframe(self):\n",
    "        # Leer el archivo Parquet\n",
    "        f = '../../data/Temixco_2018_10Min.parquet'  # Ruta al archivo Parquet\n",
    "        df = pd.read_parquet(f)\n",
    "        \n",
    "        # Definir el tamaño esperado\n",
    "        expected_length = 52560\n",
    "        \n",
    "        # Verificar que el DataFrame tiene el tamaño esperado\n",
    "        self.assertTrue(verifica_tamano(df, expected_length), f\"El DataFrame no tiene {expected_length} elementos\")\n",
    "        print(\"test_tamano_dataframe pasó\")\n",
    "\n",
    "# Ejecutar la prueba unitaria en la libreta Jupyter\n",
    "def run_tests():\n",
    "    suite = unittest.TestLoader().loadTestsFromTestCase(TestDataFrameSize)\n",
    "    unittest.TextTestRunner().run(suite)\n",
    "\n",
    "# Ejecutar las pruebas\n",
    "run_tests()"
   ]
  },
  {
   "cell_type": "code",
   "execution_count": 3,
   "id": "cb069615-fcc6-4476-85df-81cfbb9e913e",
   "metadata": {},
   "outputs": [
    {
     "ename": "NameError",
     "evalue": "name 'tmx' is not defined",
     "output_type": "error",
     "traceback": [
      "\u001b[0;31m---------------------------------------------------------------------------\u001b[0m",
      "\u001b[0;31mNameError\u001b[0m                                 Traceback (most recent call last)",
      "Cell \u001b[0;32mIn[3], line 1\u001b[0m\n\u001b[0;32m----> 1\u001b[0m \u001b[38;5;28mlen\u001b[39m(\u001b[43mtmx\u001b[49m)\n",
      "\u001b[0;31mNameError\u001b[0m: name 'tmx' is not defined"
     ]
    }
   ],
   "source": [
    "len(tmx)"
   ]
  },
  {
   "cell_type": "code",
   "execution_count": null,
   "id": "2a8ea240-fee8-44be-9140-97bef6fb3a80",
   "metadata": {},
   "outputs": [],
   "source": [
    "6*24*365"
   ]
  },
  {
   "cell_type": "code",
   "execution_count": null,
   "id": "09920e81-a134-4d91-b6c8-d252784d4ac0",
   "metadata": {},
   "outputs": [],
   "source": []
  }
 ],
 "metadata": {
  "kernelspec": {
   "display_name": "Python 3 (ipykernel)",
   "language": "python",
   "name": "python3"
  },
  "language_info": {
   "codemirror_mode": {
    "name": "ipython",
    "version": 3
   },
   "file_extension": ".py",
   "mimetype": "text/x-python",
   "name": "python",
   "nbconvert_exporter": "python",
   "pygments_lexer": "ipython3",
   "version": "3.12.3"
  }
 },
 "nbformat": 4,
 "nbformat_minor": 5
}
