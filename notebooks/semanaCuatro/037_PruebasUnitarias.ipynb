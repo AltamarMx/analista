{
 "cells": [
  {
   "cell_type": "markdown",
   "id": "27f41dac",
   "metadata": {},
   "source": [
    "# Pruebas unitarias"
   ]
  },
  {
   "cell_type": "code",
   "execution_count": 1,
   "id": "dac3c0a2-193d-4781-897c-b4a08af20e2b",
   "metadata": {},
   "outputs": [],
   "source": [
    "import pandas as pd\n",
    "import unittest"
   ]
  },
  {
   "cell_type": "code",
   "execution_count": 2,
   "id": "2ae59788-7c34-419c-8de3-3ee13ffe6573",
   "metadata": {},
   "outputs": [
    {
     "name": "stderr",
     "output_type": "stream",
     "text": [
      ".\n",
      "----------------------------------------------------------------------\n",
      "Ran 1 test in 0.047s\n",
      "\n",
      "OK\n"
     ]
    },
    {
     "name": "stdout",
     "output_type": "stream",
     "text": [
      "Todas las pruebas pasaron exitosamente.\n"
     ]
    }
   ],
   "source": [
    "class PruebasDataFrame(unittest.TestCase):\n",
    "    \n",
    "    def setUp(self):\n",
    "        # Inicializar el DataFrame en el método setUp para que se ejecute antes de cada prueba\n",
    "        self.df = pd.read_parquet(self.f)\n",
    "    \n",
    "    def test_tamanio_dataframe(self):\n",
    "        # Tamaño esperado del DataFrame\n",
    "        tamanio_esperado = 52560\n",
    "        \n",
    "        # Verificar que el DataFrame tiene el tamaño esperado\n",
    "        tamanio_actual = len(self.df)\n",
    "        self.assertEqual(tamanio_actual, tamanio_esperado, \n",
    "                         f\"El DataFrame tiene {tamanio_actual} elementos, se esperaba {tamanio_esperado}\")\n",
    "\n",
    "def run_tests(file_path):\n",
    "    # Establecer la variable de clase para el archivo a probar\n",
    "    PruebasDataFrame.f = file_path\n",
    "    \n",
    "    # Cargar y ejecutar el conjunto de pruebas\n",
    "    suite = unittest.TestLoader().loadTestsFromTestCase(PruebasDataFrame)\n",
    "    result = unittest.TextTestRunner().run(suite)\n",
    "    \n",
    "    # Devolver el resultado del test (True si pasó, False si falló)\n",
    "    return result.wasSuccessful()\n",
    "\n",
    "# Ruta del archivo Parquet\n",
    "file_path = '../data/Temixco_2018_10Min.parquet'\n",
    "\n",
    "# Ejecutar las pruebas\n",
    "if run_tests(file_path):\n",
    "    print(\"Todas las pruebas pasaron exitosamente.\")\n",
    "else:\n",
    "    print(\"Algunas pruebas fallaron.\")\n"
   ]
  }
 ],
 "metadata": {
  "kernelspec": {
   "display_name": "Python 3 (ipykernel)",
   "language": "python",
   "name": "python3"
  },
  "language_info": {
   "codemirror_mode": {
    "name": "ipython",
    "version": 3
   },
   "file_extension": ".py",
   "mimetype": "text/x-python",
   "name": "python",
   "nbconvert_exporter": "python",
   "pygments_lexer": "ipython3",
   "version": "3.12.3"
  }
 },
 "nbformat": 4,
 "nbformat_minor": 5
}
