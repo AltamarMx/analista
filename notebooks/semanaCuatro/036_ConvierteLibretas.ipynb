{
 "cells": [
  {
   "cell_type": "markdown",
   "id": "076b278e",
   "metadata": {},
   "source": [
    "# Convierte libretas en scripts"
   ]
  },
  {
   "cell_type": "code",
   "execution_count": null,
   "id": "8c1e5c92-a093-477f-a33e-a20e857d5aa8",
   "metadata": {},
   "outputs": [],
   "source": [
    "# pip install papermill"
   ]
  },
  {
   "cell_type": "code",
   "execution_count": null,
   "id": "d21afdb3-5b60-42e6-81ad-0543f0fe5176",
   "metadata": {},
   "outputs": [],
   "source": [
    "import pandas as pd\n",
    "import matplotlib.pyplot as plt"
   ]
  },
  {
   "cell_type": "code",
   "execution_count": null,
   "id": "4732d4ff-a972-4721-8c0c-865cce2956e6",
   "metadata": {},
   "outputs": [],
   "source": [
    "f = '../../data/Temixco_2018_10Min.parquet'\n",
    "tmx = pd.read_parquet(f)"
   ]
  },
  {
   "cell_type": "code",
   "execution_count": null,
   "id": "9cf3ff66-2513-4716-8adb-9acecbf25ccf",
   "metadata": {},
   "outputs": [],
   "source": [
    "tmx_latex = tmx.mean().to_latex()\n",
    "tmx_latex"
   ]
  },
  {
   "cell_type": "code",
   "execution_count": null,
   "id": "e1004110-72fb-4ab3-80c5-fd06359b9a79",
   "metadata": {},
   "outputs": [],
   "source": [
    "with open('../../latex/tabla_promedios.tex', 'w') as file:\n",
    "    file.write(tmx_latex)\n"
   ]
  },
  {
   "cell_type": "markdown",
   "id": "eb7a4d5c-dbd7-4e7b-b3ff-0d8574e5b35f",
   "metadata": {},
   "source": [
    "# 1 Save and export notebook as executable script"
   ]
  },
  {
   "cell_type": "markdown",
   "id": "a836db44-a9c4-4424-8da2-eef2522ac047",
   "metadata": {},
   "source": [
    "# 2 jupyter nbconvert --to script 036_ConvierteLibretas.ipynb"
   ]
  },
  {
   "cell_type": "markdown",
   "id": "29fa62f0-ad0a-4a78-b6c5-32b4e1987807",
   "metadata": {},
   "source": [
    "# Script con argumentos\n",
    "\n",
    "\n",
    "Si este script solo se va a ejecutar de manera directa, puedes escribirlo así:\n",
    "\n",
    "```python\n",
    "import argparse\n",
    "import pandas as pd\n",
    "\n",
    "\n",
    "# Configurar el analizador de argumentos\n",
    "parser = argparse.ArgumentParser(description='Convierte un archivo a una tabla LaTeX con promedios')\n",
    "parser.add_argument('ruta', type=str, help='Ruta al archivo .parquet ../../data/Temixco_2018_10Min.parquet ')\n",
    "parser.add_argument('frecuencia', type=str, choices=['D', 'ME', 'YE'], help='La frecuencia del promedio (diaria, mensual, anual)')\n",
    "\n",
    "\n",
    "# Parsear los argumentos de línea de comandos\n",
    "args = parser.parse_args()\n",
    "\n",
    "# Leer el archivo Parquet\n",
    "tmx = pd.read_parquet(args.ruta)\n",
    "\n",
    "# Calcula el resample seleccionado\n",
    "tmx_latex = tmx.resample(args.frecuencia).mean().to_latex()\n",
    "\n",
    "\n",
    "with open('../../latex/tabla_promedios.tex', 'w') as file:\n",
    "    file.write(tmx_latex)\n",
    "\n",
    "\n",
    "```\n",
    "\n",
    "\n",
    "Se ejecuta en la terminal con \n",
    "```\n",
    "python3.12 036_ScriptTablaLatex.py ../../data/Temixco_2018_10Min.parquet YE\n",
    "```"
   ]
  },
  {
   "cell_type": "code",
   "execution_count": null,
   "id": "d1d675ed-a62e-4fb1-99d0-0ffa70ae2f7d",
   "metadata": {},
   "outputs": [],
   "source": []
  }
 ],
 "metadata": {
  "kernelspec": {
   "display_name": "Python 3 (ipykernel)",
   "language": "python",
   "name": "python3"
  },
  "language_info": {
   "codemirror_mode": {
    "name": "ipython",
    "version": 3
   },
   "file_extension": ".py",
   "mimetype": "text/x-python",
   "name": "python",
   "nbconvert_exporter": "python",
   "pygments_lexer": "ipython3",
   "version": "3.12.3"
  }
 },
 "nbformat": 4,
 "nbformat_minor": 5
}
