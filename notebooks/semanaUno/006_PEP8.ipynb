{
 "cells": [
  {
   "cell_type": "markdown",
   "id": "5e5b3438",
   "metadata": {},
   "source": [
    "# PEP8\n",
    "\n",
    "Puedes leer las PEP8 [aquí](https://peps.python.org/pep-0008/)."
   ]
  },
  {
   "cell_type": "markdown",
   "id": "761e0335-ebf2-496b-8177-b95346f51583",
   "metadata": {},
   "source": [
    "## Uso de nombres adecuados"
   ]
  },
  {
   "cell_type": "code",
   "execution_count": 1,
   "id": "4d3e1c51-a375-4136-99d7-0ef1e9d45d69",
   "metadata": {},
   "outputs": [],
   "source": [
    "# MAL\n",
    "c = \"Temixco\"\n",
    "#BIEN\n",
    "ciudad = \"Temixco\""
   ]
  },
  {
   "cell_type": "markdown",
   "id": "39fc02a0-f6d9-448b-9d7c-0d565a7bb834",
   "metadata": {},
   "source": [
    "## Uso adecuado de espacios en las declaraciones"
   ]
  },
  {
   "cell_type": "code",
   "execution_count": 1,
   "id": "1261e805-1c95-4e49-be75-3adf1894147c",
   "metadata": {},
   "outputs": [
    {
     "ename": "NameError",
     "evalue": "name 'funcion' is not defined",
     "output_type": "error",
     "traceback": [
      "\u001b[1;31m---------------------------------------------------------------------------\u001b[0m",
      "\u001b[1;31mNameError\u001b[0m                                 Traceback (most recent call last)",
      "Cell \u001b[1;32mIn[1], line 2\u001b[0m\n\u001b[0;32m      1\u001b[0m \u001b[38;5;66;03m# MAL\u001b[39;00m\n\u001b[1;32m----> 2\u001b[0m \u001b[43mfuncion\u001b[49m(argumento\u001b[38;5;241m=\u001b[39mvalor)\n\u001b[0;32m      3\u001b[0m \u001b[38;5;66;03m#BIEN\u001b[39;00m\n\u001b[0;32m      4\u001b[0m funcion(argumento \u001b[38;5;241m=\u001b[39m valor)\n",
      "\u001b[1;31mNameError\u001b[0m: name 'funcion' is not defined"
     ]
    }
   ],
   "source": [
    "# MAL\n",
    "funcion(argumento=valor)\n",
    "#BIEN\n",
    "funcion(argumento = valor)"
   ]
  },
  {
   "cell_type": "markdown",
   "id": "bdf56754-9943-4951-9782-2a031c8dc125",
   "metadata": {},
   "source": [
    "## Evita espacios en listas, diccionarios"
   ]
  },
  {
   "cell_type": "code",
   "execution_count": null,
   "id": "a34861f7-138d-4f55-9bf7-c821cad5cc99",
   "metadata": {},
   "outputs": [],
   "source": [
    "#MAL\n",
    "lista = [ 1, 2, 3 ]\n",
    "#BIEN\n",
    "lista = [1, 2, 3]"
   ]
  },
  {
   "cell_type": "markdown",
   "id": "fb6f7ed4-72ae-4f68-ba52-76204ea90737",
   "metadata": {},
   "source": [
    "## Importa paquetes siempre al inicio del archivo"
   ]
  },
  {
   "cell_type": "markdown",
   "id": "8a8632c6-28e4-48cb-9524-d354d28bae4f",
   "metadata": {},
   "source": [
    "## Comparación  `is` o `is not`"
   ]
  },
  {
   "cell_type": "code",
   "execution_count": null,
   "id": "295c27e6-1382-4ca3-98fc-e2d67f93f3a5",
   "metadata": {},
   "outputs": [],
   "source": [
    "#MAL\n",
    "if variable == None:\n",
    "\n",
    "#BIEN\n",
    "if variable is None:"
   ]
  },
  {
   "cell_type": "markdown",
   "id": "4b379038-650e-4835-b167-b65a6a98cfaa",
   "metadata": {},
   "source": [
    "## Documenta tus funciones"
   ]
  },
  {
   "cell_type": "code",
   "execution_count": 3,
   "id": "050dba67-55e0-459b-9ba2-642d90d12667",
   "metadata": {},
   "outputs": [],
   "source": [
    "def suma(a, b):\n",
    "    \"\"\"Suma dos números y devuelve el resultado.\"\"\"\n",
    "    return a + b\n"
   ]
  },
  {
   "cell_type": "code",
   "execution_count": null,
   "id": "5b4661f3-a290-4488-b738-362c00000024",
   "metadata": {},
   "outputs": [],
   "source": []
  }
 ],
 "metadata": {
  "kernelspec": {
   "display_name": "Python 3 (ipykernel)",
   "language": "python",
   "name": "python3"
  },
  "language_info": {
   "codemirror_mode": {
    "name": "ipython",
    "version": 3
   },
   "file_extension": ".py",
   "mimetype": "text/x-python",
   "name": "python",
   "nbconvert_exporter": "python",
   "pygments_lexer": "ipython3",
   "version": "3.12.3"
  }
 },
 "nbformat": 4,
 "nbformat_minor": 5
}
