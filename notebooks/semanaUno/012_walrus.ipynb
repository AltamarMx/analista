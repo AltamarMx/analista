{
 "cells": [
  {
   "cell_type": "markdown",
   "id": "ec256259",
   "metadata": {},
   "source": [
    "# Operador Walrus"
   ]
  },
  {
   "cell_type": "code",
   "execution_count": 1,
   "id": "7616bf6f-1a56-4176-96eb-732a47335432",
   "metadata": {},
   "outputs": [],
   "source": [
    "import pandas as pd\n",
    "import matplotlib.pyplot as plt"
   ]
  },
  {
   "cell_type": "code",
   "execution_count": 2,
   "id": "e5fa25f1-a187-430f-b30d-17b5f53eacea",
   "metadata": {},
   "outputs": [
    {
     "name": "stdout",
     "output_type": "stream",
     "text": [
      "['pd.read_excel', 'pd.read_parquet']\n"
     ]
    }
   ],
   "source": [
    "funciones = [\"pd.read_csv\", \"pd.concat\", \"pd.read_excel\", \"pd.read_parquet\"]\n",
    "# Supongamos que queremos filtrar solo los que tienen más de 11 letras \n",
    "resultados = []\n",
    "for funcion in funciones:\n",
    "    largo = len(funcion)\n",
    "    if largo > 11:\n",
    "        resultados.append(funcion)\n",
    "print(resultados)\n"
   ]
  },
  {
   "cell_type": "markdown",
   "id": "c67127f3-6916-468b-a329-bc55e70e320f",
   "metadata": {},
   "source": [
    "Con el operador walrus"
   ]
  },
  {
   "cell_type": "code",
   "execution_count": 3,
   "id": "c16f953b-6740-4c28-85fe-9806a2b32d33",
   "metadata": {},
   "outputs": [
    {
     "name": "stdout",
     "output_type": "stream",
     "text": [
      "['pd.read_excel', 'pd.read_parquet']\n"
     ]
    }
   ],
   "source": [
    "funciones = [\"pd.read_csv\", \"pd.concat\", \"pd.read_excel\", \"pd.read_parquet\"]\n",
    "resultados = []\n",
    "for funcion in funciones:\n",
    "    if (largo := len(funcion)) > 11:\n",
    "        resultados.append(funcion)\n",
    "print(resultados)\n"
   ]
  },
  {
   "cell_type": "code",
   "execution_count": 4,
   "id": "a1020ae7-6b1d-42dd-947c-64d4906b2b52",
   "metadata": {},
   "outputs": [
    {
     "name": "stdout",
     "output_type": "stream",
     "text": [
      "El valor es mayor que 3 y es 256\n"
     ]
    }
   ],
   "source": [
    "\n",
    "# Calcular el valor de una función y luego usarlo para alguna condición\n",
    "valor =16**2\n",
    "if valor > 3:\n",
    "    print(f\"El valor es mayor que 3 y es {valor}\")\n"
   ]
  },
  {
   "cell_type": "code",
   "execution_count": 5,
   "id": "90d0ca3c-34f7-445d-b163-91e454998b11",
   "metadata": {},
   "outputs": [
    {
     "name": "stdout",
     "output_type": "stream",
     "text": [
      "El valor es mayor que 3 y es 256\n"
     ]
    }
   ],
   "source": [
    "# Calcular el valor de una función y evaluarlo en la misma expresión\n",
    "if (valor := 16**2) > 3:\n",
    "    print(f\"El valor es mayor que 3 y es {valor}\")\n"
   ]
  },
  {
   "cell_type": "code",
   "execution_count": null,
   "id": "a7b328cd-4eef-4b42-8e1e-17b659c496f2",
   "metadata": {},
   "outputs": [],
   "source": []
  },
  {
   "cell_type": "code",
   "execution_count": null,
   "id": "6d93bea0-43ad-4f50-a83f-66565b708639",
   "metadata": {},
   "outputs": [],
   "source": []
  },
  {
   "cell_type": "code",
   "execution_count": null,
   "id": "7bbdafc3-6036-44d8-9e42-6172ed7ef42b",
   "metadata": {},
   "outputs": [],
   "source": []
  },
  {
   "cell_type": "code",
   "execution_count": null,
   "id": "7f8a0be9-177c-40f0-ad56-f7ebf40b537b",
   "metadata": {},
   "outputs": [],
   "source": []
  },
  {
   "cell_type": "code",
   "execution_count": null,
   "id": "2fb8a4b4-ee7c-4f8b-b3a3-070df4217d15",
   "metadata": {},
   "outputs": [],
   "source": []
  },
  {
   "cell_type": "code",
   "execution_count": null,
   "id": "c2d2497f-66ce-496e-921a-15f51ecffa4d",
   "metadata": {},
   "outputs": [],
   "source": []
  },
  {
   "cell_type": "code",
   "execution_count": null,
   "id": "f73ad41c-1b3d-49f7-a7c6-05462307c164",
   "metadata": {},
   "outputs": [],
   "source": []
  },
  {
   "cell_type": "code",
   "execution_count": null,
   "id": "e2f4b7e7-2a1c-4c5b-8e38-f86a6356eb64",
   "metadata": {},
   "outputs": [],
   "source": []
  },
  {
   "cell_type": "code",
   "execution_count": null,
   "id": "0cdf2e68-8968-4df3-8804-2b6d4ac3dbb5",
   "metadata": {},
   "outputs": [],
   "source": []
  },
  {
   "cell_type": "code",
   "execution_count": null,
   "id": "273ccf46-33b3-46c0-a39a-eea51fa936da",
   "metadata": {},
   "outputs": [],
   "source": []
  },
  {
   "cell_type": "code",
   "execution_count": null,
   "id": "2cbd9d33-cfa0-40d6-9c1a-f94cc02bcc2a",
   "metadata": {},
   "outputs": [],
   "source": []
  },
  {
   "cell_type": "code",
   "execution_count": null,
   "id": "83847454-88f1-4e64-8e70-ecf67e1ebef3",
   "metadata": {},
   "outputs": [],
   "source": []
  },
  {
   "cell_type": "code",
   "execution_count": null,
   "id": "4ec947af-2922-4cd0-9831-320c8e62e1a3",
   "metadata": {},
   "outputs": [],
   "source": []
  },
  {
   "cell_type": "code",
   "execution_count": 6,
   "id": "80de3e9d-b746-4b74-a113-6ea45c2ade55",
   "metadata": {},
   "outputs": [
    {
     "data": {
      "text/plain": [
       "0       2018-01-01 00:00:00\n",
       "1       2018-01-01 00:10:00\n",
       "2       2018-01-01 00:20:00\n",
       "3       2018-01-01 00:30:00\n",
       "4       2018-01-01 00:40:00\n",
       "                ...        \n",
       "52555   2018-12-31 23:10:00\n",
       "52556   2018-12-31 23:20:00\n",
       "52557   2018-12-31 23:30:00\n",
       "52558   2018-12-31 23:40:00\n",
       "52559   2018-12-31 23:50:00\n",
       "Name: time, Length: 52560, dtype: datetime64[ns]"
      ]
     },
     "execution_count": 6,
     "metadata": {},
     "output_type": "execute_result"
    }
   ],
   "source": [
    "f = \"../../data/Temixco_2018_10Min.csv\"\n",
    "tmx = pd.read_csv(f,parse_dates=[\"time\"])\n",
    "tmx.time"
   ]
  },
  {
   "cell_type": "code",
   "execution_count": null,
   "id": "c3835ea3-8c18-4163-98da-cc8123d52cb6",
   "metadata": {},
   "outputs": [],
   "source": []
  },
  {
   "cell_type": "code",
   "execution_count": null,
   "id": "5fc91325-3720-4341-b035-2ab503a7a09e",
   "metadata": {},
   "outputs": [],
   "source": []
  },
  {
   "cell_type": "code",
   "execution_count": 7,
   "id": "7e1d3fee-8362-444e-b57d-bd6732769340",
   "metadata": {
    "scrolled": true
   },
   "outputs": [
    {
     "data": {
      "text/plain": [
       "0        2018\n",
       "1        2018\n",
       "2        2018\n",
       "3        2018\n",
       "4        2018\n",
       "         ... \n",
       "52555    2018\n",
       "52556    2018\n",
       "52557    2018\n",
       "52558    2018\n",
       "52559    2018\n",
       "Name: time, Length: 52560, dtype: int64"
      ]
     },
     "execution_count": 7,
     "metadata": {},
     "output_type": "execute_result"
    }
   ],
   "source": [
    "tmx[\"time\"].apply(lambda x: x.year)"
   ]
  },
  {
   "cell_type": "code",
   "execution_count": 8,
   "id": "d72101d2-6088-4090-9aa1-83012131f17f",
   "metadata": {},
   "outputs": [
    {
     "data": {
      "text/plain": [
       "Index(['time', 'Ib', 'Ig', 'To', 'RH', 'WS', 'WD', 'P', 'year'], dtype='object')"
      ]
     },
     "execution_count": 8,
     "metadata": {},
     "output_type": "execute_result"
    }
   ],
   "source": [
    "tmx[\"year\"] = tmx[\"time\"].apply(lambda x: x.year)\n",
    "tmx.columns"
   ]
  },
  {
   "cell_type": "code",
   "execution_count": 9,
   "id": "480551be-1c9c-44af-9781-a90438edab25",
   "metadata": {},
   "outputs": [
    {
     "name": "stdout",
     "output_type": "stream",
     "text": [
      "19 ms ± 4.57 ms per loop (mean ± std. dev. of 7 runs, 10 loops each)\n"
     ]
    }
   ],
   "source": [
    "%%timeit\n",
    "tmx[\"P\"].apply(lambda x: x*100)"
   ]
  },
  {
   "cell_type": "code",
   "execution_count": 10,
   "id": "f173b47d-b426-4bf9-9a8c-0b283b7cbdfd",
   "metadata": {},
   "outputs": [
    {
     "name": "stdout",
     "output_type": "stream",
     "text": [
      "107 μs ± 8.46 μs per loop (mean ± std. dev. of 7 runs, 10,000 loops each)\n"
     ]
    }
   ],
   "source": [
    "%%timeit\n",
    "tmx[\"P\"]*100"
   ]
  },
  {
   "cell_type": "code",
   "execution_count": 11,
   "id": "6402c93b-5c93-47c4-b37e-ab07cc4098c6",
   "metadata": {},
   "outputs": [],
   "source": [
    "tmx['mensaje'] = tmx['To'].apply(lambda x: 'confort' if 20 <= x <= 24 else ('calor' if x > 24 else 'frío'))"
   ]
  },
  {
   "cell_type": "code",
   "execution_count": 12,
   "id": "d74e70ab-047c-4bec-a59f-1db1777dd203",
   "metadata": {},
   "outputs": [
    {
     "data": {
      "text/plain": [
       "0        frío\n",
       "1        frío\n",
       "2        frío\n",
       "3        frío\n",
       "4        frío\n",
       "         ... \n",
       "52555    frío\n",
       "52556    frío\n",
       "52557    frío\n",
       "52558    frío\n",
       "52559    frío\n",
       "Name: mensaje, Length: 52560, dtype: object"
      ]
     },
     "execution_count": 12,
     "metadata": {},
     "output_type": "execute_result"
    }
   ],
   "source": [
    "tmx.mensaje"
   ]
  },
  {
   "cell_type": "code",
   "execution_count": 13,
   "id": "9569cb1a-65b1-4d39-8e13-f98fdffcd74d",
   "metadata": {
    "scrolled": true
   },
   "outputs": [
    {
     "data": {
      "text/plain": [
       "mensaje\n",
       "calor      20907\n",
       "confort    15921\n",
       "frío       15732\n",
       "Name: count, dtype: int64"
      ]
     },
     "execution_count": 13,
     "metadata": {},
     "output_type": "execute_result"
    }
   ],
   "source": [
    "tmx.mensaje.value_counts()"
   ]
  }
 ],
 "metadata": {
  "kernelspec": {
   "display_name": "Python 3 (ipykernel)",
   "language": "python",
   "name": "python3"
  },
  "language_info": {
   "codemirror_mode": {
    "name": "ipython",
    "version": 3
   },
   "file_extension": ".py",
   "mimetype": "text/x-python",
   "name": "python",
   "nbconvert_exporter": "python",
   "pygments_lexer": "ipython3",
   "version": "3.12.3"
  }
 },
 "nbformat": 4,
 "nbformat_minor": 5
}
