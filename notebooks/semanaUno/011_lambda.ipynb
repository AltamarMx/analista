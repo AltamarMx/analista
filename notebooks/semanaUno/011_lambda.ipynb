{
 "cells": [
  {
   "cell_type": "markdown",
   "id": "821aaa79",
   "metadata": {},
   "source": [
    "# Funciones lambda"
   ]
  },
  {
   "cell_type": "code",
   "execution_count": 1,
   "id": "7616bf6f-1a56-4176-96eb-732a47335432",
   "metadata": {},
   "outputs": [],
   "source": [
    "import pandas as pd\n",
    "import matplotlib.pyplot as plt"
   ]
  },
  {
   "cell_type": "code",
   "execution_count": 2,
   "id": "80de3e9d-b746-4b74-a113-6ea45c2ade55",
   "metadata": {},
   "outputs": [
    {
     "data": {
      "text/plain": [
       "0       2018-01-01 00:00:00\n",
       "1       2018-01-01 00:10:00\n",
       "2       2018-01-01 00:20:00\n",
       "3       2018-01-01 00:30:00\n",
       "4       2018-01-01 00:40:00\n",
       "                ...        \n",
       "52555   2018-12-31 23:10:00\n",
       "52556   2018-12-31 23:20:00\n",
       "52557   2018-12-31 23:30:00\n",
       "52558   2018-12-31 23:40:00\n",
       "52559   2018-12-31 23:50:00\n",
       "Name: time, Length: 52560, dtype: datetime64[ns]"
      ]
     },
     "execution_count": 2,
     "metadata": {},
     "output_type": "execute_result"
    }
   ],
   "source": [
    "f = \"../../data/Temixco_2018_10Min.csv\"\n",
    "tmx = pd.read_csv(f,parse_dates=[\"time\"])\n",
    "tmx.time"
   ]
  },
  {
   "cell_type": "code",
   "execution_count": 3,
   "id": "7e1d3fee-8362-444e-b57d-bd6732769340",
   "metadata": {
    "scrolled": true
   },
   "outputs": [
    {
     "data": {
      "text/plain": [
       "0        2018\n",
       "1        2018\n",
       "2        2018\n",
       "3        2018\n",
       "4        2018\n",
       "         ... \n",
       "52555    2018\n",
       "52556    2018\n",
       "52557    2018\n",
       "52558    2018\n",
       "52559    2018\n",
       "Name: time, Length: 52560, dtype: int64"
      ]
     },
     "execution_count": 3,
     "metadata": {},
     "output_type": "execute_result"
    }
   ],
   "source": [
    "tmx[\"time\"].apply(lambda x: x.year)"
   ]
  },
  {
   "cell_type": "code",
   "execution_count": 4,
   "id": "d72101d2-6088-4090-9aa1-83012131f17f",
   "metadata": {},
   "outputs": [
    {
     "data": {
      "text/plain": [
       "Index(['time', 'Ib', 'Ig', 'To', 'RH', 'WS', 'WD', 'P', 'year'], dtype='object')"
      ]
     },
     "execution_count": 4,
     "metadata": {},
     "output_type": "execute_result"
    }
   ],
   "source": [
    "tmx[\"year\"] = tmx[\"time\"].apply(lambda x: x.year)\n",
    "tmx.columns"
   ]
  },
  {
   "cell_type": "code",
   "execution_count": 5,
   "id": "480551be-1c9c-44af-9781-a90438edab25",
   "metadata": {},
   "outputs": [
    {
     "name": "stdout",
     "output_type": "stream",
     "text": [
      "23.1 ms ± 6.48 ms per loop (mean ± std. dev. of 7 runs, 100 loops each)\n"
     ]
    }
   ],
   "source": [
    "%%timeit\n",
    "tmx[\"P\"].apply(lambda x: x*100)"
   ]
  },
  {
   "cell_type": "code",
   "execution_count": 6,
   "id": "f173b47d-b426-4bf9-9a8c-0b283b7cbdfd",
   "metadata": {},
   "outputs": [
    {
     "name": "stdout",
     "output_type": "stream",
     "text": [
      "101 μs ± 17.6 μs per loop (mean ± std. dev. of 7 runs, 1,000 loops each)\n"
     ]
    }
   ],
   "source": [
    "%%timeit\n",
    "tmx[\"P\"]*100"
   ]
  },
  {
   "cell_type": "code",
   "execution_count": 7,
   "id": "6402c93b-5c93-47c4-b37e-ab07cc4098c6",
   "metadata": {},
   "outputs": [],
   "source": [
    "tmx['mensaje'] = tmx['To'].apply(lambda x: 'confort' if 20 <= x <= 24 else ('calor' if x > 24 else 'frío'))"
   ]
  },
  {
   "cell_type": "code",
   "execution_count": 14,
   "id": "d74e70ab-047c-4bec-a59f-1db1777dd203",
   "metadata": {},
   "outputs": [
    {
     "data": {
      "text/plain": [
       "0        frío\n",
       "1        frío\n",
       "2        frío\n",
       "3        frío\n",
       "4        frío\n",
       "         ... \n",
       "52555    frío\n",
       "52556    frío\n",
       "52557    frío\n",
       "52558    frío\n",
       "52559    frío\n",
       "Name: mensaje, Length: 52560, dtype: object"
      ]
     },
     "execution_count": 14,
     "metadata": {},
     "output_type": "execute_result"
    }
   ],
   "source": [
    "tmx.mensaje"
   ]
  },
  {
   "cell_type": "code",
   "execution_count": 11,
   "id": "9569cb1a-65b1-4d39-8e13-f98fdffcd74d",
   "metadata": {
    "scrolled": true
   },
   "outputs": [
    {
     "data": {
      "text/plain": [
       "mensaje\n",
       "calor      20907\n",
       "confort    15921\n",
       "frío       15732\n",
       "Name: count, dtype: int64"
      ]
     },
     "execution_count": 11,
     "metadata": {},
     "output_type": "execute_result"
    }
   ],
   "source": [
    "tmx.mensaje.value_counts()"
   ]
  }
 ],
 "metadata": {
  "kernelspec": {
   "display_name": "Python 3 (ipykernel)",
   "language": "python",
   "name": "python3"
  },
  "language_info": {
   "codemirror_mode": {
    "name": "ipython",
    "version": 3
   },
   "file_extension": ".py",
   "mimetype": "text/x-python",
   "name": "python",
   "nbconvert_exporter": "python",
   "pygments_lexer": "ipython3",
   "version": "3.12.3"
  }
 },
 "nbformat": 4,
 "nbformat_minor": 5
}
