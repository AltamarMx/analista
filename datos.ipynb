{
 "cells": [
  {
   "cell_type": "markdown",
   "id": "69825a6c-ece4-4eb1-82c2-44ff9d98b5f5",
   "metadata": {},
   "source": [
    "### Datos usados en el curso  {.unnumbered}\n",
    "\n"
   ]
  },
  {
   "cell_type": "markdown",
   "id": "7ffaca8a",
   "metadata": {},
   "source": [
    "### Ubicación de los datos {.unnumbered}\n",
    "\n",
    "Si descargaste el repositorio, verás un folder data en el directorio raíz, ahí se encuentran los datos usados en el curso.\n",
    "![](img/datos.jpeg)\n",
    "\n",
    "Puedes entrar a cada conjunto de datos y descargar archivo por archivo si así lo deseas.\n",
    "![](img/archivo.jpeg)"
   ]
  },
  {
   "cell_type": "markdown",
   "id": "406c4a64-e6e3-4716-9c5c-6ae34cc56744",
   "metadata": {},
   "source": [
    "\n",
    "### Temixco_2018_10Min.csv  {.unnumbered}\n",
    "\n",
    "\n",
    "\n",
    "Este archivo contiene datos recopilados cada 10 minutos para todo el año 2018. Las columnas del dataset están descritas a continuación:\n",
    "\n",
    "- **`time`**: Fecha y hora del registro en el formato `año-mes-día hora:minutos:segundos`.\n",
    "- **`Ib`**: Radiación directa sobre superficie horizontal (W/m²).\n",
    "- **`Ig`**: Radiación global (W/m²).\n",
    "- **`To`**: Temperatura ambiental (°C).\n",
    "- **`RH`**: Humedad relativa (%).\n",
    "- **`WS`**: Velocidad del viento (m/s).\n",
    "- **`WD`**: Dirección del viento (grados).\n",
    "- **`P`**: Presión atmosférica (hPa).\n"
   ]
  },
  {
   "cell_type": "code",
   "execution_count": 1,
   "id": "a7a16063-23e7-49b5-ae48-07fc9b68362b",
   "metadata": {},
   "outputs": [
    {
     "name": "stdout",
     "output_type": "stream",
     "text": [
      "time,Ib,Ig,To,RH,WS,WD,P\n",
      "2018-01-01 00:00:00,,,18.7,36.34,1.422,316.0,87864.11\n",
      "2018-01-01 00:10:00,0.002,0.0,18.95,35.29,1.008,283.7,87876.37\n",
      "2018-01-01 00:20:00,0.17,0.0,18.94,35.43,1.565,326.0,87888.64\n",
      "2018-01-01 00:30:00,0.371,0.0,18.77,35.89,2.175,354.5,87887.21\n",
      "2018-01-01 00:40:00,0.305,0.0,18.81,36.34,1.902,348.0,87886.90999999999\n",
      "2018-01-01 00:50:00,0.031,0.0,19.23,35.4,1.468,6.668,87889.36\n",
      "2018-01-01 01:00:00,0.034,0.0,19.23,35.67,1.368,11.67,87894.78\n",
      "2018-01-01 01:10:00,0.178,0.0,19.25,35.6,1.122,3.498,87899.54\n",
      "2018-01-01 01:20:00,0.001,0.0,19.21,35.97,0.332,64.51,87896.81999999999\n"
     ]
    }
   ],
   "source": [
    "!head ../data/Temixco_2018_10Min.csv"
   ]
  },
  {
   "cell_type": "markdown",
   "id": "c4c8b0d4-f421-4e5e-af47-ede07240c9ea",
   "metadata": {},
   "source": [
    "\n",
    "### Temixco_2018_10Min.xls  {.unnumbered}\n",
    "\n",
    "\n",
    "Este archivo contiene datos recopilados cada 10 minutos para todo el año 2018 al igual que  `Temixco_2018_10Min.csv` pero en formato `xlsx`"
   ]
  },
  {
   "cell_type": "markdown",
   "id": "ec3d80a6-45d4-40f5-a235-1479f96dc663",
   "metadata": {},
   "source": [
    "\n",
    "### Temixco_2018_10Min.parquet  {.unnumbered}\n",
    "\n",
    "\n",
    "Este archivo contiene datos recopilados cada 10 minutos para todo el año 2018 al igual que  `Temixco_2018_10Min.csv` pero en formato `parquet`"
   ]
  },
  {
   "cell_type": "markdown",
   "id": "c9274da4-94a3-4075-ad6c-219e395852c0",
   "metadata": {},
   "source": [
    "\n",
    "### Temixco_2018_10Min.csv.zip  {.unnumbered}\n",
    "\n",
    "\n",
    "Este archivo contiene datos recopilados cada 10 minutos para todo el año 2018 al igual que `Temixco_2018_10Min.csv` pero comprimido en formato `zip`."
   ]
  },
  {
   "cell_type": "markdown",
   "id": "dde012ec-df5a-4d7c-b545-44214af4bb2a",
   "metadata": {},
   "source": [
    "\n",
    "### Temixco_2018_10Min_NaN.csv {.unnumbered}\n",
    "\n",
    "\n",
    "Este archivo contiene datos recopilados cada 10 minutos para todo el año 2018 al igual que `Temixco_2018_10Min.csv` pero tiene un periodo con datos `NaN` en marzo y otro periodo donde se eliminaron datos al final del año."
   ]
  },
  {
   "cell_type": "markdown",
   "id": "799e7f74-5025-48d9-b8d0-e381fa8bd30f",
   "metadata": {},
   "source": [
    "\n",
    "### update.parquet {.unnumbered}\n",
    "\n",
    "\n",
    "Este archivo contiene datos recopilados cada 10 minutos para marzo del año 2018 al igual que `Temixco_2018_10Min.csv` solo de la columna `To`.\n",
    "- **`To`**: Temperatura ambiental (°C).\n"
   ]
  },
  {
   "cell_type": "markdown",
   "id": "34333f7d-704d-4d72-b0b2-e8bfbc637317",
   "metadata": {},
   "source": [
    "\n",
    "### owid-co2-data.csv {.unnumbered}\n",
    "\n",
    "Este archivo contiene datos relacionados con las emisiones de CO2, la producción de energía y otros indicadores medioambientales y económicos recopilados a nivel mundial. Los datos abarcan diferentes períodos de tiempo según el país y la variable registrada. Las columnas del dataset están descritas a continuación:\n",
    "\n",
    "- **`country`**: El nombre del país o región.\n",
    "- **`year`**: Año del registro de datos.\n",
    "- **`iso_code`**: Código ISO 3166-1 alfa-3 del país.\n",
    "- **`population`**: Población del país en el año especificado.\n",
    "- **`gdp`**: Producto Interno Bruto (PIB) del país en dólares internacionales constantes.\n",
    "- **`primary_energy_consumption`**: Consumo de energía primaria en teravatios-hora (TWh).\n",
    "- **`energy_per_capita`**: Consumo de energía per cápita en kilovatios-hora (kWh).\n",
    "- **`energy_per_gdp`**: Consumo de energía por unidad de PIB en kilovatios-hora por dólar internacional constante.\n",
    "- **`co2`**: Emisiones totales de CO2 en millones de toneladas.\n",
    "- **`co2_per_capita`**: Emisiones de CO2 per cápita en toneladas.\n",
    "- **`co2_per_gdp`**: Emisiones de CO2 por unidad de PIB en kilogramos por dólar internacional constante.\n",
    "- **`coal_co2`**: Emisiones de CO2 del carbón en millones de toneladas.\n",
    "- **`oil_co2`**: Emisiones de CO2 del petróleo en millones de toneladas.\n",
    "- **`gas_co2`**: Emisiones de CO2 del gas natural en millones de toneladas.\n",
    "- **`cement_co2`**: Emisiones de CO2 del cemento en millones de toneladas.\n",
    "- **`flaring_co2`**: Emisiones de CO2 por quema de gas en millones de toneladas.\n",
    "- **`other_industry_co2`**: Emisiones de CO2 de otras industrias en millones de toneladas.\n",
    "- **`co2_growth_abs`**: Crecimiento absoluto de las emisiones de CO2 en millones de toneladas respecto al año anterior.\n",
    "- **`co2_growth_prct`**: Crecimiento porcentual de las emisiones de CO2 respecto al año anterior.\n",
    "- **`co2_including_land_use`**: Emisiones de CO2 incluyendo el uso del suelo en millones de toneladas.\n",
    "- **`co2_including_land_use_per_capita`**: Emisiones de CO2 incluyendo el uso del suelo per cápita en toneladas.\n",
    "- **`co2_including_land_use_per_gdp`**: Emisiones de CO2 incluyendo el uso del suelo por unidad de PIB en kilogramos por dólar internacional constante.\n",
    "- **`methane`**: Emisiones de metano en millones de toneladas equivalentes de CO2.\n",
    "- **`methane_per_capita`**: Emisiones de metano per cápita en toneladas equivalentes de CO2.\n",
    "- **`methane_per_gdp`**: Emisiones de metano por unidad de PIB en kilogramos equivalentes de CO2 por dólar internacional constante.\n",
    "- **`nitrous_oxide`**: Emisiones de óxido nitroso en millones de toneladas equivalentes de CO2.\n",
    "- **`nitrous_oxide_per_capita`**: Emisiones de óxido nitroso per cápita en toneladas equivalentes de CO2.\n",
    "- **`nitrous_oxide_per_gdp`**: Emisiones de óxido nitroso por unidad de PIB en kilogramos equivalentes de CO2 por dólar internacional constante.\n",
    "- **`energy_consumption`**: Consumo total de energía en teravatios-hora (TWh).\n",
    "- **`energy_consumption_per_capita`**: Consumo de energía per cápita en kilovatios-hora (kWh).\n",
    "- **`energy_consumption_per_gdp`**: Consumo de energía por unidad de PIB en kilovatios-hora por dólar internacional constante.\n",
    "\n",
    "### Referencias {.unnumbered}\n",
    "\n",
    "**Artículo:**\n",
    "\n",
    "@article{owid-co2-gdp-decoupling,  \n",
    "  author = {Hannah Ritchie},  \n",
    "  title = {Many countries have decoupled economic growth from CO2 emissions, even if we take offshored production into account},  \n",
    "  journal = {Our World in Data},  \n",
    "  year = {2021},  \n",
    "  note = {https://ourworldindata.org/co2-gdp-decoupling}  \n",
    "}\n",
    "\n",
    "**Datos de:**\n",
    "\n",
    "[Our World in Data CO2 Dataset](https://github.com/owid/co2-data?tab=readme-ov-file)\n"
   ]
  },
  {
   "cell_type": "markdown",
   "id": "f8a2507f-1e0c-40bc-bd11-5f5807f079ab",
   "metadata": {},
   "source": [
    "### personas_cargas.csv {.unnumbered}\n",
    "\n",
    "Este archivo contiene datos recopilados cada  minuto  durante el primero de enero del 2006. Contiene en la medición de consumo eléctrico y ocupación de diferentes espacios en un edificio. Las columnas del dataset están descritas a continuación:\n",
    "\n",
    "- **`date`**: Fecha y hora del registro en el formato `año-mes-día hora:minutos:segundos`.\n",
    "\n",
    "- **`B2_LIGHT:Lights Electricity Rate (W)`**: Consumo eléctrico en Watts de las luces en la habitación B2.\n",
    "\n",
    "- **`B1:Lights Electricity Rate (W)`**: Consumo eléctrico en Watts de las luces en la habitación B1.\n",
    "\n",
    "- **`COCINA_ESTUFA_EQUIPMENT:Electric Equipment Electricity Rate (W)`**: Consumo eléctrico en Watts del equipo de estufa en la cocina.\n",
    "\n",
    "- **`COCINA_REFR_EQUIPMENT:Electric Equipment Electricity Rate (W)`**: Consumo eléctrico en Watts del refrigerador en la cocina.\n",
    "\n",
    "- **`ESTANCIA_COCINA_LIGHT:Lights Electricity Rate (W)`**: Consumo eléctrico en Watts de las luces en la estancia de la cocina.\n",
    "\n",
    "- **`ESTANCIA_TV_EQUIPMENT:Electric Equipment Electricity Rate (W)`**: Consumo eléctrico en Watts del equipo de televisión en la estancia.\n",
    "\n",
    "- **`R1_LIGHT:Lights Electricity Rate (W)`**: Consumo eléctrico en Watts de las luces en la habitación R1.\n",
    "\n",
    "- **`R2_LIGHT:Lights Electricity Rate (W)`**: Consumo eléctrico en Watts de las luces en la habitación R2.\n",
    "\n",
    "- **`R3_LIGHT:Lights Electricity Rate (W)`**: Consumo eléctrico en Watts de las luces en la habitación R3.\n",
    "\n",
    "- **`COCINA_STAND_BY_EQUIPMENT:Electric Equipment Electricity Rate (W)`**: Consumo eléctrico en Watts de los equipos en modo de espera en la cocina.\n",
    "\n",
    "- **`B1:Space People Occupant Count ()`**: Número de personas presentes en la habitación B1.\n",
    "\n",
    "- **`B2:Space People Occupant Count ()`**: Número de personas presentes en la habitación B2.\n",
    "\n",
    "- **`COCINA:Space People Occupant Count ()`**: Número de personas presentes en la cocina.\n",
    "\n",
    "- **`R1:Space People Occupant Count ()`**: Número de personas presentes en la habitación R1.\n",
    "\n",
    "- **`R2:Space People Occupant Count ()`**: Número de personas presentes en la habitación R2.\n",
    "\n",
    "- **`R3:Space People Occupant Count ()`**: Número de personas presentes en la habitación R3.\n"
   ]
  },
  {
   "cell_type": "code",
   "execution_count": null,
   "id": "57eadc6f-9191-4718-9115-909c74946f8e",
   "metadata": {},
   "outputs": [],
   "source": []
  }
 ],
 "metadata": {
  "kernelspec": {
   "display_name": "Python 3 (ipykernel)",
   "language": "python",
   "name": "python3"
  },
  "language_info": {
   "codemirror_mode": {
    "name": "ipython",
    "version": 3
   },
   "file_extension": ".py",
   "mimetype": "text/x-python",
   "name": "python",
   "nbconvert_exporter": "python",
   "pygments_lexer": "ipython3",
   "version": "3.12.3"
  }
 },
 "nbformat": 4,
 "nbformat_minor": 5
}
